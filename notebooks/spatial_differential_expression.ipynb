{
 "cells": [
  {
   "cell_type": "markdown",
   "id": "f44e154f",
   "metadata": {},
   "source": [
    "# Spatial Differential Expression\n",
    "\n",
    "This notebook will cover an example of the spatial differential expression step of the BayesTME pipeline, using our melanoma dataset as an example.\n",
    "\n",
    "First download the dataset form https://www.dropbox.com/s/aha4mcdrq12myfi/ST_mel1_rep2_counts.tsv?dl=0 and save it in your current working directory.\n",
    "\n",
    "We will also use the result of the deconvolution step, produced in the previous notebook.\n",
    "\n",
    "We will first load these into our data models:\n"
   ]
  },
  {
   "cell_type": "code",
   "execution_count": 1,
   "id": "c7d8ad33",
   "metadata": {},
   "outputs": [],
   "source": [
    "from bayestme import data\n",
    "\n",
    "deconvolution_result = data.DeconvolutionResult.read_h5('./bayestme_melanoma_deconvolution_result.h5ad')\n",
    "stdata = data.SpatialExpressionDataset.read_h5('./bayestme_melanoma_stdata.h5ad')"
   ]
  },
  {
   "cell_type": "markdown",
   "id": "b6b1e4c6",
   "metadata": {},
   "source": [
    "Next we will sample from the spatial differential expression posterior distribution.\n",
    "\n",
    "We will only run for a limited number of samples for the sake of computational brevity. Normally we would use a much higher number of samples.\n",
    "\n",
    "We will use the lambda smoothing parameter learned from k-fold cross-validation.\n",
    "\n",
    "The `n_spatial_patterns` parameter "
   ]
  },
  {
   "cell_type": "code",
   "execution_count": 2,
   "id": "89f708ef",
   "metadata": {},
   "outputs": [
    {
     "name": "stderr",
     "output_type": "stream",
     "text": [
      "/Users/jquinn/opt/anaconda3/envs/bayes_tme2/lib/python3.9/site-packages/libpysal/weights/util.py:23: UserWarning: geopandas not available. Some functionality will be disabled.\n",
      "  warn(\"geopandas not available. Some functionality will be disabled.\")\n"
     ]
    },
    {
     "name": "stdout",
     "output_type": "stream",
     "text": [
      "Step 0\n",
      "Step 1\n",
      "Step 2\n",
      "Step 3\n",
      "Step 4\n",
      "Step 5\n",
      "Step 6\n",
      "Step 7\n",
      "Step 8\n",
      "Step 9\n",
      "Step 10\n",
      "Step 11\n",
      "Step 12\n",
      "Step 13\n",
      "Step 14\n",
      "Step 15\n",
      "Step 16\n",
      "Step 17\n",
      "Step 18\n",
      "Step 19\n",
      "Step 20\n",
      "Step 21\n",
      "Step 22\n",
      "Step 23\n",
      "Step 24\n",
      "Step 25\n",
      "Step 26\n",
      "Step 27\n",
      "Step 28\n",
      "Step 29\n",
      "Step 30\n",
      "Step 31\n",
      "Step 32\n",
      "Step 33\n",
      "Step 34\n",
      "Step 35\n",
      "Step 36\n",
      "Step 37\n",
      "Step 38\n",
      "Step 39\n",
      "Step 40\n",
      "Step 41\n",
      "Step 42\n",
      "Step 43\n",
      "Step 44\n",
      "Step 45\n",
      "Step 46\n",
      "Step 47\n",
      "Step 48\n",
      "Step 49\n",
      "Step 50\n",
      "Step 51\n",
      "Step 52\n",
      "Step 53\n",
      "Step 54\n",
      "Step 55\n",
      "Step 56\n",
      "Step 57\n",
      "Step 58\n",
      "Step 59\n",
      "Step 60\n",
      "Step 61\n",
      "Step 62\n",
      "Step 63\n",
      "Step 64\n",
      "Step 65\n",
      "Step 66\n",
      "Step 67\n",
      "Step 68\n",
      "Step 69\n"
     ]
    }
   ],
   "source": [
    "from bayestme import spatial_expression\n",
    "import numpy as np\n",
    "\n",
    "np.random.seed(0)\n",
    "results = spatial_expression.run_spatial_expression(\n",
    "    dataset=stdata,\n",
    "    deconvolve_results=deconvolution_result,\n",
    "    n_spatial_patterns=10,\n",
    "    n_samples=50,\n",
    "    n_burn=20,\n",
    "    n_thin=1,\n",
    "    n_cell_min=5,\n",
    "    alpha0=10,\n",
    "    prior_var=100.0,\n",
    "    lam2=1000,\n",
    "    simple=True)"
   ]
  },
  {
   "cell_type": "markdown",
   "id": "be8a4dd8",
   "metadata": {},
   "source": [
    "As a result of sampling the spatial differential expression posterior, we have learned 10 spatial differential expresison patterns for each of our 4 cell types.\n",
    "\n",
    "Many of these spatial programs we have learned will just be capturing technical noise and overdispersion rather than meaningful spatial signal.\n",
    "\n",
    "As a result we have derived a method for filtering out these spatial programs and selecting ones that are more likely to represent meaningful signal.\n",
    "\n",
    "In this example, because we are using so few samples, we have relaxed these criteria below just for demonstration purposes."
   ]
  },
  {
   "cell_type": "code",
   "execution_count": 3,
   "id": "a150a3ec",
   "metadata": {},
   "outputs": [
    {
     "data": {
      "text/plain": [
       "'1 significant programs found'"
      ]
     },
     "execution_count": 3,
     "metadata": {},
     "output_type": "execute_result"
    }
   ],
   "source": [
    "import logging\n",
    "spatial_expression.logger.setLevel(logging.DEBUG)\n",
    "\n",
    "significant_programs = [_ for _ in spatial_expression.select_significant_spatial_programs(\n",
    "        stdata=stdata,\n",
    "        decon_result=deconvolution_result,\n",
    "        sde_result=results,\n",
    "        tissue_threshold=0,\n",
    "    gene_spatial_pattern_proportion_threshold=0.6,\n",
    "    cell_correlation_threshold=0.7,\n",
    "    moran_i_score_threshold=0.7\n",
    ")]\n",
    "\n",
    "'{} significant programs found'.format(len(significant_programs))"
   ]
  },
  {
   "cell_type": "markdown",
   "id": "3ac71527",
   "metadata": {},
   "source": [
    "BayesTME includes plotting code, we call `plot_spatial_pattern_with_legend` to show this differential expression pattern and the genes involved in it."
   ]
  },
  {
   "cell_type": "code",
   "execution_count": 4,
   "id": "75201c80",
   "metadata": {},
   "outputs": [],
   "source": [
    "k, h, gene_ids = significant_programs[0]\n",
    "\n",
    "spatial_expression.plot_spatial_pattern_with_legend(\n",
    "    stdata=stdata,\n",
    "    decon_result=deconvolution_result,\n",
    "    sde_result=results,\n",
    "    gene_ids=gene_ids.T,\n",
    "    k=k,\n",
    "    h=h,\n",
    "    output_file='./significant_sde_pattern.jpg'\n",
    ")"
   ]
  },
  {
   "cell_type": "code",
   "execution_count": 5,
   "id": "1149c614",
   "metadata": {},
   "outputs": [
    {
     "data": {
      "image/jpeg": "[encoded data removed]",
      "text/plain": [
       "<IPython.core.display.Image object>"
      ]
     },
     "execution_count": 5,
     "metadata": {},
     "output_type": "execute_result"
    }
   ],
   "source": [
    "from IPython.display import Image\n",
    "\n",
    "Image('./significant_sde_pattern.jpg')"
   ]
  }
 ],
 "metadata": {
  "kernelspec": {
   "display_name": "Python 3 (ipykernel)",
   "language": "python",
   "name": "python3"
  },
  "language_info": {
   "codemirror_mode": {
    "name": "ipython",
    "version": 3
   },
   "file_extension": ".py",
   "mimetype": "text/x-python",
   "name": "python",
   "nbconvert_exporter": "python",
   "pygments_lexer": "ipython3",
   "version": "3.9.12"
  }
 },
 "nbformat": 4,
 "nbformat_minor": 5
}
