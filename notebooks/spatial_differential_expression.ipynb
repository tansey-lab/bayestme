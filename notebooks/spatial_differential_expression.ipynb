{
 "cells": [
  {
   "cell_type": "markdown",
   "id": "f44e154f",
   "metadata": {},
   "source": [
    "# Spatial Differential Expression\n",
    "\n",
    "This notebook will cover an example of the spatial differential expression step of the BayesTME pipeline, using our melanoma dataset as an example.\n",
    "\n",
    "First download the dataset form https://www.dropbox.com/s/aha4mcdrq12myfi/ST_mel1_rep2_counts.tsv?dl=0 and save it in your current working directory.\n",
    "\n",
    "We will also use the result of the deconvolution step, produced in the previous notebook.\n",
    "\n",
    "We will first load these into our data models:\n"
   ]
  },
  {
   "cell_type": "code",
   "execution_count": 4,
   "id": "c7d8ad33",
   "metadata": {},
   "outputs": [],
   "source": [
    "from bayestme import data\n",
    "\n",
    "deconvolution_result = data.DeconvolutionResult.read_h5('./bayestme_melanoma_deconvolution_result.h5ad')\n",
    "stdata = data.SpatialExpressionDataset.read_h5('./bayestme_melanoma_stdata.h5ad')"
   ]
  },
  {
   "cell_type": "markdown",
   "id": "b6b1e4c6",
   "metadata": {},
   "source": [
    "Next we will sample from the spatial differential expression posterior distribution.\n",
    "\n",
    "We will only run for a limited number of samples for the sake of computational brevity. Normally we would use a much higher number of samples.\n",
    "\n",
    "We will use the lambda smoothing parameter learned from k-fold cross-validation.\n",
    "\n",
    "The `n_spatial_patterns` parameter "
   ]
  },
  {
   "cell_type": "code",
   "execution_count": 12,
   "id": "89f708ef",
   "metadata": {},
   "outputs": [
    {
     "name": "stdout",
     "output_type": "stream",
     "text": [
      "Step 0\n",
      "Step 1\n",
      "Step 2\n",
      "Step 3\n",
      "Step 4\n",
      "Step 5\n",
      "Step 6\n",
      "Step 7\n",
      "Step 8\n",
      "Step 9\n",
      "Step 10\n",
      "Step 11\n",
      "Step 12\n",
      "Step 13\n",
      "Step 14\n",
      "Step 15\n",
      "Step 16\n",
      "Step 17\n",
      "Step 18\n",
      "Step 19\n",
      "Step 20\n",
      "Step 21\n",
      "Step 22\n",
      "Step 23\n",
      "Step 24\n",
      "Step 25\n",
      "Step 26\n",
      "Step 27\n",
      "Step 28\n",
      "Step 29\n",
      "Step 30\n",
      "Step 31\n",
      "Step 32\n",
      "Step 33\n",
      "Step 34\n",
      "Step 35\n",
      "Step 36\n",
      "Step 37\n",
      "Step 38\n",
      "Step 39\n",
      "Step 40\n",
      "Step 41\n",
      "Step 42\n",
      "Step 43\n",
      "Step 44\n",
      "Step 45\n",
      "Step 46\n",
      "Step 47\n",
      "Step 48\n",
      "Step 49\n",
      "Step 50\n",
      "Step 51\n",
      "Step 52\n",
      "Step 53\n",
      "Step 54\n",
      "Step 55\n",
      "Step 56\n",
      "Step 57\n",
      "Step 58\n",
      "Step 59\n",
      "Step 60\n",
      "Step 61\n",
      "Step 62\n",
      "Step 63\n",
      "Step 64\n",
      "Step 65\n",
      "Step 66\n",
      "Step 67\n",
      "Step 68\n",
      "Step 69\n"
     ]
    }
   ],
   "source": [
    "from bayestme import spatial_expression\n",
    "import numpy as np\n",
    "\n",
    "np.random.seed(0)\n",
    "results = spatial_expression.run_spatial_expression(\n",
    "    dataset=stdata,\n",
    "    deconvolve_results=deconvolution_result,\n",
    "    n_spatial_patterns=10,\n",
    "    n_samples=50,\n",
    "    n_burn=20,\n",
    "    n_thin=1,\n",
    "    n_cell_min=5,\n",
    "    alpha0=10,\n",
    "    prior_var=100.0,\n",
    "    lam2=1000,\n",
    "    simple=True)"
   ]
  },
  {
   "cell_type": "markdown",
   "id": "be8a4dd8",
   "metadata": {},
   "source": [
    "As a result of sampling the spatial differential expression posterior, we have learned 10 spatial differential expresison patterns for each of our 4 cell types.\n",
    "\n",
    "Many of these spatial programs we have learned will just be capturing technical noise and overdispersion rather than meaningful spatial signal.\n",
    "\n",
    "As a result we have derived a method for filtering out these spatial programs and selecting ones that are more likely to represent meaningful signal.\n",
    "\n",
    "In this example, because we are using so few samples, we have relaxed these criteria below just for demonstration purposes."
   ]
  },
  {
   "cell_type": "code",
   "execution_count": 37,
   "id": "a150a3ec",
   "metadata": {},
   "outputs": [
    {
     "name": "stderr",
     "output_type": "stream",
     "text": [
      "DEBUG:bayestme.spatial_expression:No genes have proportion > gene_spatial_pattern_proportion_threshold 0.6 for cell type 0 pattern 1, dropping.\n",
      "DEBUG:bayestme.spatial_expression:No genes have proportion > gene_spatial_pattern_proportion_threshold 0.6 for cell type 0 pattern 2, dropping.\n",
      "DEBUG:bayestme.spatial_expression:No genes have proportion > gene_spatial_pattern_proportion_threshold 0.6 for cell type 0 pattern 3, dropping.\n",
      "DEBUG:bayestme.spatial_expression:n_cell_correlation >= cell_correlation_threshold 0.7 for cell type 0 pattern 4, dropping.\n",
      "DEBUG:bayestme.spatial_expression:No genes have proportion > gene_spatial_pattern_proportion_threshold 0.6 for cell type 0 pattern 5, dropping.\n",
      "DEBUG:bayestme.spatial_expression:No genes have proportion > gene_spatial_pattern_proportion_threshold 0.6 for cell type 0 pattern 6, dropping.\n",
      "DEBUG:bayestme.spatial_expression:No genes have proportion > gene_spatial_pattern_proportion_threshold 0.6 for cell type 0 pattern 7, dropping.\n",
      "DEBUG:bayestme.spatial_expression:No genes have proportion > gene_spatial_pattern_proportion_threshold 0.6 for cell type 0 pattern 8, dropping.\n",
      "DEBUG:bayestme.spatial_expression:n_cell_correlation >= cell_correlation_threshold 0.7 for cell type 0 pattern 9, dropping.\n",
      "DEBUG:bayestme.spatial_expression:No genes have proportion > gene_spatial_pattern_proportion_threshold 0.6 for cell type 0 pattern 10, dropping.\n",
      "DEBUG:bayestme.spatial_expression:n_cell_correlation >= cell_correlation_threshold 0.7 for cell type 1 pattern 1, dropping.\n",
      "DEBUG:bayestme.spatial_expression:Moran I score <= moran_i_score_threshold 0.7 for cell type 1 pattern 2, dropping.\n",
      "DEBUG:bayestme.spatial_expression:No genes have proportion > gene_spatial_pattern_proportion_threshold 0.6 for cell type 1 pattern 3, dropping.\n",
      "DEBUG:bayestme.spatial_expression:No genes have proportion > gene_spatial_pattern_proportion_threshold 0.6 for cell type 1 pattern 4, dropping.\n",
      "DEBUG:bayestme.spatial_expression:No genes have proportion > gene_spatial_pattern_proportion_threshold 0.6 for cell type 1 pattern 5, dropping.\n",
      "DEBUG:bayestme.spatial_expression:No genes have proportion > gene_spatial_pattern_proportion_threshold 0.6 for cell type 1 pattern 6, dropping.\n",
      "DEBUG:bayestme.spatial_expression:n_cell_correlation >= cell_correlation_threshold 0.7 for cell type 1 pattern 7, dropping.\n",
      "DEBUG:bayestme.spatial_expression:No genes have proportion > gene_spatial_pattern_proportion_threshold 0.6 for cell type 1 pattern 8, dropping.\n",
      "DEBUG:bayestme.spatial_expression:Moran I score <= moran_i_score_threshold 0.7 for cell type 1 pattern 9, dropping.\n",
      "DEBUG:bayestme.spatial_expression:n_cell_correlation >= cell_correlation_threshold 0.7 for cell type 1 pattern 10, dropping.\n",
      "DEBUG:bayestme.spatial_expression:No genes have proportion > gene_spatial_pattern_proportion_threshold 0.6 for cell type 2 pattern 1, dropping.\n",
      "DEBUG:bayestme.spatial_expression:No genes have proportion > gene_spatial_pattern_proportion_threshold 0.6 for cell type 2 pattern 2, dropping.\n",
      "DEBUG:bayestme.spatial_expression:No genes have proportion > gene_spatial_pattern_proportion_threshold 0.6 for cell type 2 pattern 3, dropping.\n",
      "DEBUG:bayestme.spatial_expression:No genes have proportion > gene_spatial_pattern_proportion_threshold 0.6 for cell type 2 pattern 4, dropping.\n",
      "DEBUG:bayestme.spatial_expression:No genes have proportion > gene_spatial_pattern_proportion_threshold 0.6 for cell type 2 pattern 5, dropping.\n",
      "DEBUG:bayestme.spatial_expression:No genes have proportion > gene_spatial_pattern_proportion_threshold 0.6 for cell type 2 pattern 6, dropping.\n",
      "DEBUG:bayestme.spatial_expression:No genes have proportion > gene_spatial_pattern_proportion_threshold 0.6 for cell type 2 pattern 7, dropping.\n",
      "DEBUG:bayestme.spatial_expression:n_cell_correlation >= cell_correlation_threshold 0.7 for cell type 2 pattern 8, dropping.\n",
      "DEBUG:bayestme.spatial_expression:n_cell_correlation >= cell_correlation_threshold 0.7 for cell type 2 pattern 9, dropping.\n",
      "DEBUG:bayestme.spatial_expression:Moran I score <= moran_i_score_threshold 0.7 for cell type 2 pattern 10, dropping.\n",
      "DEBUG:bayestme.spatial_expression:n_cell_correlation >= cell_correlation_threshold 0.7 for cell type 3 pattern 1, dropping.\n",
      "DEBUG:bayestme.spatial_expression:Significant spatial pattern found: cell type 3, pattern 2.\n",
      "DEBUG:bayestme.spatial_expression:No genes have proportion > gene_spatial_pattern_proportion_threshold 0.6 for cell type 3 pattern 3, dropping.\n",
      "DEBUG:bayestme.spatial_expression:No genes have proportion > gene_spatial_pattern_proportion_threshold 0.6 for cell type 3 pattern 4, dropping.\n",
      "DEBUG:bayestme.spatial_expression:Moran I score <= moran_i_score_threshold 0.7 for cell type 3 pattern 5, dropping.\n",
      "DEBUG:bayestme.spatial_expression:No genes have proportion > gene_spatial_pattern_proportion_threshold 0.6 for cell type 3 pattern 6, dropping.\n",
      "DEBUG:bayestme.spatial_expression:n_cell_correlation >= cell_correlation_threshold 0.7 for cell type 3 pattern 7, dropping.\n",
      "DEBUG:bayestme.spatial_expression:No genes have proportion > gene_spatial_pattern_proportion_threshold 0.6 for cell type 3 pattern 8, dropping.\n",
      "DEBUG:bayestme.spatial_expression:No genes have proportion > gene_spatial_pattern_proportion_threshold 0.6 for cell type 3 pattern 9, dropping.\n",
      "DEBUG:bayestme.spatial_expression:No genes have proportion > gene_spatial_pattern_proportion_threshold 0.6 for cell type 3 pattern 10, dropping.\n"
     ]
    },
    {
     "data": {
      "text/plain": [
       "'1 significant programs found'"
      ]
     },
     "execution_count": 37,
     "metadata": {},
     "output_type": "execute_result"
    }
   ],
   "source": [
    "import logging\n",
    "spatial_expression.logger.setLevel(logging.DEBUG)\n",
    "\n",
    "significant_programs = [_ for _ in spatial_expression.select_significant_spatial_programs(\n",
    "        stdata=stdata,\n",
    "        decon_result=deconvolution_result,\n",
    "        sde_result=results,\n",
    "        tissue_threshold=0,\n",
    "    gene_spatial_pattern_proportion_threshold=0.6,\n",
    "    cell_correlation_threshold=0.7,\n",
    "    moran_i_score_threshold=0.7\n",
    ")]\n",
    "\n",
    "'{} significant programs found'.format(len(significant_programs))"
   ]
  },
  {
   "cell_type": "markdown",
   "id": "3ac71527",
   "metadata": {},
   "source": [
    "BayesTME includes plotting code, we call `plot_spatial_pattern_with_legend` to show this differential expression pattern and the genes involved in it:"
   ]
  },
  {
   "cell_type": "code",
   "execution_count": 60,
   "id": "98fe9adb",
   "metadata": {},
   "outputs": [],
   "source": [
    "import bayestme\n",
    "from bayestme.spatial_expression import *\n",
    "\n",
    "def plot_spatial_pattern_legend(\n",
    "        fig: matplotlib.figure.Figure,\n",
    "        ax: matplotlib.axes.Axes,\n",
    "        stdata: data.SpatialExpressionDataset,\n",
    "        sde_result: data.SpatialDifferentialExpressionResult,\n",
    "        gene_ids: np.array,\n",
    "        k: int,\n",
    "        colormap):\n",
    "    loadings = sde_result.v_samples[:, gene_ids, k].mean(axis=0).flatten()\n",
    "    loadings /= np.max(np.abs(loadings)) * np.sign(loadings[np.argmax(np.abs(loadings))])\n",
    "    genes_selected = gene_ids[abs(loadings) > 0.1]\n",
    "    loadings = loadings[abs(loadings) > 0.1]\n",
    "    plot_order = np.argsort(loadings)\n",
    "    loading_plot = loadings[plot_order]\n",
    "    genes_selected_in_plot_order = genes_selected[plot_order]\n",
    "    vmin = min(-1e-4, loading_plot.min())\n",
    "    vmax = max(1e-4, loading_plot.max())\n",
    "    norm = colors.TwoSlopeNorm(vmin=vmin, vcenter=0, vmax=vmax)\n",
    "    legend_elements = []\n",
    "    for i, g in enumerate(genes_selected_in_plot_order):\n",
    "        legend_elements.append(\n",
    "            Line2D([0], [0], marker='o',\n",
    "                   color=colormap(norm(loading_plot[i])),\n",
    "                   label=stdata.gene_names[genes_selected_in_plot_order[i]],\n",
    "                   markerfacecolor=colormap(norm(loading_plot[i])),\n",
    "                   markersize=abs(loading_plot[i]) * 20,\n",
    "                   linestyle='none')\n",
    "        )\n",
    "    legend_elements.reverse()\n",
    "\n",
    "    ax.legend(handles=legend_elements, loc='center', fontsize=10, labelspacing=2, frameon=False)\n",
    "    ax.set_axis_off()\n",
    "    \n",
    "bayestme.spatial_expression.plot_spatial_pattern_legend = plot_spatial_pattern_legend"
   ]
  },
  {
   "cell_type": "code",
   "execution_count": 63,
   "id": "75201c80",
   "metadata": {},
   "outputs": [
    {
     "name": "stdout",
     "output_type": "stream",
     "text": [
      "[[ 18]\n",
      " [ 21]\n",
      " [ 40]\n",
      " [173]\n",
      " [361]\n",
      " [714]\n",
      " [819]]\n"
     ]
    },
    {
     "ename": "IndexError",
     "evalue": "boolean index did not match indexed array along dimension 0; dimension is 1 but corresponding boolean dimension is 7",
     "output_type": "error",
     "traceback": [
      "\u001b[0;31m---------------------------------------------------------------------------\u001b[0m",
      "\u001b[0;31mIndexError\u001b[0m                                Traceback (most recent call last)",
      "Input \u001b[0;32mIn [63]\u001b[0m, in \u001b[0;36m<cell line: 5>\u001b[0;34m()\u001b[0m\n\u001b[1;32m      1\u001b[0m k, h, gene_ids \u001b[38;5;241m=\u001b[39m significant_programs[\u001b[38;5;241m0\u001b[39m]\n\u001b[1;32m      3\u001b[0m \u001b[38;5;28mprint\u001b[39m(gene_ids)\n\u001b[0;32m----> 5\u001b[0m \u001b[43mspatial_expression\u001b[49m\u001b[38;5;241;43m.\u001b[39;49m\u001b[43mplot_spatial_pattern_with_legend\u001b[49m\u001b[43m(\u001b[49m\n\u001b[1;32m      6\u001b[0m \u001b[43m    \u001b[49m\u001b[43mstdata\u001b[49m\u001b[38;5;241;43m=\u001b[39;49m\u001b[43mstdata\u001b[49m\u001b[43m,\u001b[49m\n\u001b[1;32m      7\u001b[0m \u001b[43m    \u001b[49m\u001b[43mdecon_result\u001b[49m\u001b[38;5;241;43m=\u001b[39;49m\u001b[43mdeconvolution_result\u001b[49m\u001b[43m,\u001b[49m\n\u001b[1;32m      8\u001b[0m \u001b[43m    \u001b[49m\u001b[43msde_result\u001b[49m\u001b[38;5;241;43m=\u001b[39;49m\u001b[43mresults\u001b[49m\u001b[43m,\u001b[49m\n\u001b[1;32m      9\u001b[0m \u001b[43m    \u001b[49m\u001b[43mgene_ids\u001b[49m\u001b[38;5;241;43m=\u001b[39;49m\u001b[43mgene_ids\u001b[49m\u001b[38;5;241;43m.\u001b[39;49m\u001b[43mT\u001b[49m\u001b[43m,\u001b[49m\n\u001b[1;32m     10\u001b[0m \u001b[43m    \u001b[49m\u001b[43mk\u001b[49m\u001b[38;5;241;43m=\u001b[39;49m\u001b[43mk\u001b[49m\u001b[43m,\u001b[49m\n\u001b[1;32m     11\u001b[0m \u001b[43m    \u001b[49m\u001b[43mh\u001b[49m\u001b[38;5;241;43m=\u001b[39;49m\u001b[43mh\u001b[49m\u001b[43m,\u001b[49m\n\u001b[1;32m     12\u001b[0m \u001b[43m    \u001b[49m\u001b[43moutput_file\u001b[49m\u001b[38;5;241;43m=\u001b[39;49m\u001b[38;5;124;43m'\u001b[39;49m\u001b[38;5;124;43m./significant_sde_pattern.jpg\u001b[39;49m\u001b[38;5;124;43m'\u001b[39;49m\n\u001b[1;32m     13\u001b[0m \u001b[43m)\u001b[49m\n",
      "File \u001b[0;32m~/opt/anaconda3/envs/bayes_tme2/lib/python3.9/site-packages/bayestme-0.1.0-py3.9.egg/bayestme/spatial_expression.py:538\u001b[0m, in \u001b[0;36mplot_spatial_pattern_with_legend\u001b[0;34m(stdata, decon_result, sde_result, gene_ids, k, h, output_file, colormap, plot_threshold)\u001b[0m\n\u001b[1;32m    527\u001b[0m \u001b[38;5;28;01mdef\u001b[39;00m \u001b[38;5;21mplot_spatial_pattern_with_legend\u001b[39m(\n\u001b[1;32m    528\u001b[0m         stdata: data\u001b[38;5;241m.\u001b[39mSpatialExpressionDataset,\n\u001b[1;32m    529\u001b[0m         decon_result: data\u001b[38;5;241m.\u001b[39mDeconvolutionResult,\n\u001b[0;32m   (...)\u001b[0m\n\u001b[1;32m    535\u001b[0m         colormap\u001b[38;5;241m=\u001b[39mcm\u001b[38;5;241m.\u001b[39mcoolwarm,\n\u001b[1;32m    536\u001b[0m         plot_threshold: \u001b[38;5;28mint\u001b[39m \u001b[38;5;241m=\u001b[39m \u001b[38;5;241m2\u001b[39m):\n\u001b[1;32m    537\u001b[0m     fig, (ax1, ax2) \u001b[38;5;241m=\u001b[39m plt\u001b[38;5;241m.\u001b[39msubplots(\u001b[38;5;241m1\u001b[39m, \u001b[38;5;241m2\u001b[39m, gridspec_kw\u001b[38;5;241m=\u001b[39m{\u001b[38;5;124m'\u001b[39m\u001b[38;5;124mwidth_ratios\u001b[39m\u001b[38;5;124m'\u001b[39m: [\u001b[38;5;241m1\u001b[39m, \u001b[38;5;241m3\u001b[39m]})\n\u001b[0;32m--> 538\u001b[0m     \u001b[43mplot_spatial_pattern_legend\u001b[49m\u001b[43m(\u001b[49m\n\u001b[1;32m    539\u001b[0m \u001b[43m        \u001b[49m\u001b[43mfig\u001b[49m\u001b[38;5;241;43m=\u001b[39;49m\u001b[43mfig\u001b[49m\u001b[43m,\u001b[49m\n\u001b[1;32m    540\u001b[0m \u001b[43m        \u001b[49m\u001b[43max\u001b[49m\u001b[38;5;241;43m=\u001b[39;49m\u001b[43max1\u001b[49m\u001b[43m,\u001b[49m\n\u001b[1;32m    541\u001b[0m \u001b[43m        \u001b[49m\u001b[43mstdata\u001b[49m\u001b[38;5;241;43m=\u001b[39;49m\u001b[43mstdata\u001b[49m\u001b[43m,\u001b[49m\n\u001b[1;32m    542\u001b[0m \u001b[43m        \u001b[49m\u001b[43msde_result\u001b[49m\u001b[38;5;241;43m=\u001b[39;49m\u001b[43msde_result\u001b[49m\u001b[43m,\u001b[49m\n\u001b[1;32m    543\u001b[0m \u001b[43m        \u001b[49m\u001b[43mgene_ids\u001b[49m\u001b[38;5;241;43m=\u001b[39;49m\u001b[43mgene_ids\u001b[49m\u001b[43m,\u001b[49m\n\u001b[1;32m    544\u001b[0m \u001b[43m        \u001b[49m\u001b[43mk\u001b[49m\u001b[38;5;241;43m=\u001b[39;49m\u001b[43mk\u001b[49m\u001b[43m,\u001b[49m\n\u001b[1;32m    545\u001b[0m \u001b[43m        \u001b[49m\u001b[43mcolormap\u001b[49m\u001b[38;5;241;43m=\u001b[39;49m\u001b[43mcolormap\u001b[49m\n\u001b[1;32m    546\u001b[0m \u001b[43m    \u001b[49m\u001b[43m)\u001b[49m\n\u001b[1;32m    547\u001b[0m     plot_spatial_pattern(\n\u001b[1;32m    548\u001b[0m         fig\u001b[38;5;241m=\u001b[39mfig,\n\u001b[1;32m    549\u001b[0m         ax\u001b[38;5;241m=\u001b[39max2,\n\u001b[0;32m   (...)\u001b[0m\n\u001b[1;32m    557\u001b[0m         colormap\u001b[38;5;241m=\u001b[39mcolormap\n\u001b[1;32m    558\u001b[0m     )\n\u001b[1;32m    559\u001b[0m     fig\u001b[38;5;241m.\u001b[39msavefig(output_file)\n",
      "Input \u001b[0;32mIn [60]\u001b[0m, in \u001b[0;36mplot_spatial_pattern_legend\u001b[0;34m(fig, ax, stdata, sde_result, gene_ids, k, colormap)\u001b[0m\n\u001b[1;32m     12\u001b[0m loadings \u001b[38;5;241m=\u001b[39m sde_result\u001b[38;5;241m.\u001b[39mv_samples[:, gene_ids, k]\u001b[38;5;241m.\u001b[39mmean(axis\u001b[38;5;241m=\u001b[39m\u001b[38;5;241m0\u001b[39m)\u001b[38;5;241m.\u001b[39mflatten()\n\u001b[1;32m     13\u001b[0m loadings \u001b[38;5;241m/\u001b[39m\u001b[38;5;241m=\u001b[39m np\u001b[38;5;241m.\u001b[39mmax(np\u001b[38;5;241m.\u001b[39mabs(loadings)) \u001b[38;5;241m*\u001b[39m np\u001b[38;5;241m.\u001b[39msign(loadings[np\u001b[38;5;241m.\u001b[39margmax(np\u001b[38;5;241m.\u001b[39mabs(loadings))])\n\u001b[0;32m---> 14\u001b[0m genes_selected \u001b[38;5;241m=\u001b[39m \u001b[43mgene_ids\u001b[49m\u001b[43m[\u001b[49m\u001b[38;5;28;43mabs\u001b[39;49m\u001b[43m(\u001b[49m\u001b[43mloadings\u001b[49m\u001b[43m)\u001b[49m\u001b[43m \u001b[49m\u001b[38;5;241;43m>\u001b[39;49m\u001b[43m \u001b[49m\u001b[38;5;241;43m0.1\u001b[39;49m\u001b[43m]\u001b[49m\n\u001b[1;32m     15\u001b[0m loadings \u001b[38;5;241m=\u001b[39m loadings[\u001b[38;5;28mabs\u001b[39m(loadings) \u001b[38;5;241m>\u001b[39m \u001b[38;5;241m0.1\u001b[39m]\n\u001b[1;32m     16\u001b[0m plot_order \u001b[38;5;241m=\u001b[39m np\u001b[38;5;241m.\u001b[39margsort(loadings)\n",
      "\u001b[0;31mIndexError\u001b[0m: boolean index did not match indexed array along dimension 0; dimension is 1 but corresponding boolean dimension is 7"
     ]
    },
    {
     "data": {
      "image/png": "[encoded data removed]",
      "text/plain": [
       "<Figure size 432x288 with 2 Axes>"
      ]
     },
     "metadata": {
      "needs_background": "light"
     },
     "output_type": "display_data"
    }
   ],
   "source": [
    "k, h, gene_ids = significant_programs[0]\n",
    "\n",
    "print(gene_ids)\n",
    "\n",
    "spatial_expression.plot_spatial_pattern_with_legend(\n",
    "    stdata=stdata,\n",
    "    decon_result=deconvolution_result,\n",
    "    sde_result=results,\n",
    "    gene_ids=gene_ids.T,\n",
    "    k=k,\n",
    "    h=h,\n",
    "    output_file='./significant_sde_pattern.jpg'\n",
    ")"
   ]
  },
  {
   "cell_type": "code",
   "execution_count": 64,
   "id": "1149c614",
   "metadata": {},
   "outputs": [
    {
     "data": {
      "image/jpeg": "[encoded data removed]",
      "text/plain": [
       "<IPython.core.display.Image object>"
      ]
     },
     "execution_count": 64,
     "metadata": {},
     "output_type": "execute_result"
    }
   ],
   "source": [
    "from IPython.display import Image\n",
    "\n",
    "Image('./significant_sde_pattern.jpg')"
   ]
  },
  {
   "cell_type": "code",
   "execution_count": null,
   "id": "621adc42",
   "metadata": {},
   "outputs": [],
   "source": []
  }
 ],
 "metadata": {
  "kernelspec": {
   "display_name": "Python 3 (ipykernel)",
   "language": "python",
   "name": "python3"
  },
  "language_info": {
   "codemirror_mode": {
    "name": "ipython",
    "version": 3
   },
   "file_extension": ".py",
   "mimetype": "text/x-python",
   "name": "python",
   "nbconvert_exporter": "python",
   "pygments_lexer": "ipython3",
   "version": "3.9.12"
  }
 },
 "nbformat": 4,
 "nbformat_minor": 5
}
