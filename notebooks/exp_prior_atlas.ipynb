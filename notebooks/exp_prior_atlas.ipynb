{
 "cells": [
  {
   "cell_type": "markdown",
   "metadata": {
    "id": "L3rPe-t6YcNv"
   },
   "source": [
    "We gonna show how to use BayesTME's `expression_truth` module to get a prior on expression profile from a cell atlas data consisting of gene expression data of thounsands of cells of several cell types from multiple samples, which can be used in deconvolution job."
   ]
  },
  {
   "cell_type": "code",
   "execution_count": 2,
   "metadata": {
    "id": "gSsLhukdQXth"
   },
   "outputs": [],
   "source": [
    "import os\n",
    "\n",
    "from bayestme import expression_truth as et\n",
    "from IPython.display import set_matplotlib_formats\n",
    "from matplotlib import pyplot as plt\n",
    "import numpy as np\n",
    "import pandas as pd\n",
    "\n",
    "import numpyro"
   ]
  },
  {
   "cell_type": "markdown",
   "metadata": {
    "id": "haANAewKTBqx"
   },
   "source": [
    "Load the example atlas data"
   ]
  },
  {
   "cell_type": "code",
   "execution_count": 3,
   "metadata": {
    "colab": {
     "base_uri": "https://localhost:8080/"
    },
    "id": "FDPbZbc3QvAz",
    "outputId": "bc98d703-7d8c-403e-fb74-bb9865c81861"
   },
   "outputs": [
    {
     "name": "stdout",
     "output_type": "stream",
     "text": [
      "3 samples\n",
      "5 cell types\n"
     ]
    }
   ],
   "source": [
    "atlas_data = pd.read_csv(\"/content/E-MTAB-6653_example.csv\", index_col=0)\n",
    "print('{} samples'.format(len(np.unique(atlas_data.sample_id))))\n",
    "print('{} cell types'.format(len(np.unique(atlas_data.cell_type))))"
   ]
  },
  {
   "cell_type": "markdown",
   "metadata": {
    "id": "p6dtWJygTL59"
   },
   "source": [
    "The example atlas data had 15 cells and 23981 genes of 5 cells from 3 samples "
   ]
  },
  {
   "cell_type": "code",
   "execution_count": 4,
   "metadata": {
    "colab": {
     "base_uri": "https://localhost:8080/",
     "height": 300
    },
    "id": "U0amkaQzSizA",
    "outputId": "e9d41e28-511b-40d9-d50f-2da1ae349214"
   },
   "outputs": [
    {
     "data": {
      "text/html": [
       "\n",
       "  <div id=\"df-b1497003-8269-4f1f-bfa7-d7f4200521d5\">\n",
       "    <div class=\"colab-df-container\">\n",
       "      <div>\n",
       "<style scoped>\n",
       "    .dataframe tbody tr th:only-of-type {\n",
       "        vertical-align: middle;\n",
       "    }\n",
       "\n",
       "    .dataframe tbody tr th {\n",
       "        vertical-align: top;\n",
       "    }\n",
       "\n",
       "    .dataframe thead th {\n",
       "        text-align: right;\n",
       "    }\n",
       "</style>\n",
       "<table border=\"1\" class=\"dataframe\">\n",
       "  <thead>\n",
       "    <tr style=\"text-align: right;\">\n",
       "      <th></th>\n",
       "      <th>ENSG00000000003</th>\n",
       "      <th>ENSG00000000419</th>\n",
       "      <th>ENSG00000000457</th>\n",
       "      <th>ENSG00000000460</th>\n",
       "      <th>ENSG00000000938</th>\n",
       "      <th>ENSG00000000971</th>\n",
       "      <th>ENSG00000001036</th>\n",
       "      <th>ENSG00000001084</th>\n",
       "      <th>ENSG00000001167</th>\n",
       "      <th>ENSG00000001460</th>\n",
       "      <th>...</th>\n",
       "      <th>ENSG00000289690</th>\n",
       "      <th>ENSG00000289692</th>\n",
       "      <th>ENSG00000289694</th>\n",
       "      <th>ENSG00000289695</th>\n",
       "      <th>ENSG00000289697</th>\n",
       "      <th>ENSG00000289700</th>\n",
       "      <th>ENSG00000289701</th>\n",
       "      <th>ENSG00000289716</th>\n",
       "      <th>cell_type</th>\n",
       "      <th>sample_id</th>\n",
       "    </tr>\n",
       "  </thead>\n",
       "  <tbody>\n",
       "    <tr>\n",
       "      <th>0</th>\n",
       "      <td>0.000002</td>\n",
       "      <td>0.000042</td>\n",
       "      <td>0.000004</td>\n",
       "      <td>7.423628e-07</td>\n",
       "      <td>0.000100</td>\n",
       "      <td>0.000007</td>\n",
       "      <td>0.000050</td>\n",
       "      <td>0.000015</td>\n",
       "      <td>0.000005</td>\n",
       "      <td>0.000011</td>\n",
       "      <td>...</td>\n",
       "      <td>0.000004</td>\n",
       "      <td>3.247838e-07</td>\n",
       "      <td>0.000105</td>\n",
       "      <td>0.0</td>\n",
       "      <td>9.279536e-08</td>\n",
       "      <td>2.783861e-07</td>\n",
       "      <td>0.000014</td>\n",
       "      <td>1.855907e-07</td>\n",
       "      <td>1</td>\n",
       "      <td>6</td>\n",
       "    </tr>\n",
       "    <tr>\n",
       "      <th>1</th>\n",
       "      <td>0.000003</td>\n",
       "      <td>0.000074</td>\n",
       "      <td>0.000008</td>\n",
       "      <td>3.515130e-06</td>\n",
       "      <td>0.000042</td>\n",
       "      <td>0.000017</td>\n",
       "      <td>0.000018</td>\n",
       "      <td>0.000013</td>\n",
       "      <td>0.000009</td>\n",
       "      <td>0.000018</td>\n",
       "      <td>...</td>\n",
       "      <td>0.000003</td>\n",
       "      <td>0.000000e+00</td>\n",
       "      <td>0.000084</td>\n",
       "      <td>0.0</td>\n",
       "      <td>3.515130e-07</td>\n",
       "      <td>5.858550e-07</td>\n",
       "      <td>0.000007</td>\n",
       "      <td>3.515130e-07</td>\n",
       "      <td>2</td>\n",
       "      <td>6</td>\n",
       "    </tr>\n",
       "    <tr>\n",
       "      <th>2</th>\n",
       "      <td>0.000003</td>\n",
       "      <td>0.000062</td>\n",
       "      <td>0.000008</td>\n",
       "      <td>4.080497e-06</td>\n",
       "      <td>0.000006</td>\n",
       "      <td>0.000010</td>\n",
       "      <td>0.000009</td>\n",
       "      <td>0.000030</td>\n",
       "      <td>0.000007</td>\n",
       "      <td>0.000018</td>\n",
       "      <td>...</td>\n",
       "      <td>0.000003</td>\n",
       "      <td>0.000000e+00</td>\n",
       "      <td>0.000047</td>\n",
       "      <td>0.0</td>\n",
       "      <td>1.974433e-07</td>\n",
       "      <td>3.948866e-07</td>\n",
       "      <td>0.000005</td>\n",
       "      <td>3.290722e-07</td>\n",
       "      <td>4</td>\n",
       "      <td>6</td>\n",
       "    </tr>\n",
       "    <tr>\n",
       "      <th>3</th>\n",
       "      <td>0.000010</td>\n",
       "      <td>0.000053</td>\n",
       "      <td>0.000006</td>\n",
       "      <td>2.750273e-07</td>\n",
       "      <td>0.000008</td>\n",
       "      <td>0.000030</td>\n",
       "      <td>0.000033</td>\n",
       "      <td>0.000005</td>\n",
       "      <td>0.000005</td>\n",
       "      <td>0.000013</td>\n",
       "      <td>...</td>\n",
       "      <td>0.000003</td>\n",
       "      <td>0.000000e+00</td>\n",
       "      <td>0.000043</td>\n",
       "      <td>0.0</td>\n",
       "      <td>1.650164e-06</td>\n",
       "      <td>6.875682e-07</td>\n",
       "      <td>0.000005</td>\n",
       "      <td>1.375136e-07</td>\n",
       "      <td>5</td>\n",
       "      <td>6</td>\n",
       "    </tr>\n",
       "    <tr>\n",
       "      <th>4</th>\n",
       "      <td>0.000020</td>\n",
       "      <td>0.000097</td>\n",
       "      <td>0.000016</td>\n",
       "      <td>2.904005e-06</td>\n",
       "      <td>0.000045</td>\n",
       "      <td>0.000035</td>\n",
       "      <td>0.000025</td>\n",
       "      <td>0.000016</td>\n",
       "      <td>0.000007</td>\n",
       "      <td>0.000015</td>\n",
       "      <td>...</td>\n",
       "      <td>0.000005</td>\n",
       "      <td>2.420004e-07</td>\n",
       "      <td>0.000085</td>\n",
       "      <td>0.0</td>\n",
       "      <td>7.260012e-07</td>\n",
       "      <td>9.680016e-07</td>\n",
       "      <td>0.000006</td>\n",
       "      <td>0.000000e+00</td>\n",
       "      <td>6</td>\n",
       "      <td>6</td>\n",
       "    </tr>\n",
       "  </tbody>\n",
       "</table>\n",
       "<p>5 rows × 23981 columns</p>\n",
       "</div>\n",
       "      <button class=\"colab-df-convert\" onclick=\"convertToInteractive('df-b1497003-8269-4f1f-bfa7-d7f4200521d5')\"\n",
       "              title=\"Convert this dataframe to an interactive table.\"\n",
       "              style=\"display:none;\">\n",
       "        \n",
       "  <svg xmlns=\"http://www.w3.org/2000/svg\" height=\"24px\"viewBox=\"0 0 24 24\"\n",
       "       width=\"24px\">\n",
       "    <path d=\"M0 0h24v24H0V0z\" fill=\"none\"/>\n",
       "    <path d=\"M18.56 5.44l.94 2.06.94-2.06 2.06-.94-2.06-.94-.94-2.06-.94 2.06-2.06.94zm-11 1L8.5 8.5l.94-2.06 2.06-.94-2.06-.94L8.5 2.5l-.94 2.06-2.06.94zm10 10l.94 2.06.94-2.06 2.06-.94-2.06-.94-.94-2.06-.94 2.06-2.06.94z\"/><path d=\"M17.41 7.96l-1.37-1.37c-.4-.4-.92-.59-1.43-.59-.52 0-1.04.2-1.43.59L10.3 9.45l-7.72 7.72c-.78.78-.78 2.05 0 2.83L4 21.41c.39.39.9.59 1.41.59.51 0 1.02-.2 1.41-.59l7.78-7.78 2.81-2.81c.8-.78.8-2.07 0-2.86zM5.41 20L4 18.59l7.72-7.72 1.47 1.35L5.41 20z\"/>\n",
       "  </svg>\n",
       "      </button>\n",
       "      \n",
       "  <style>\n",
       "    .colab-df-container {\n",
       "      display:flex;\n",
       "      flex-wrap:wrap;\n",
       "      gap: 12px;\n",
       "    }\n",
       "\n",
       "    .colab-df-convert {\n",
       "      background-color: #E8F0FE;\n",
       "      border: none;\n",
       "      border-radius: 50%;\n",
       "      cursor: pointer;\n",
       "      display: none;\n",
       "      fill: #1967D2;\n",
       "      height: 32px;\n",
       "      padding: 0 0 0 0;\n",
       "      width: 32px;\n",
       "    }\n",
       "\n",
       "    .colab-df-convert:hover {\n",
       "      background-color: #E2EBFA;\n",
       "      box-shadow: 0px 1px 2px rgba(60, 64, 67, 0.3), 0px 1px 3px 1px rgba(60, 64, 67, 0.15);\n",
       "      fill: #174EA6;\n",
       "    }\n",
       "\n",
       "    [theme=dark] .colab-df-convert {\n",
       "      background-color: #3B4455;\n",
       "      fill: #D2E3FC;\n",
       "    }\n",
       "\n",
       "    [theme=dark] .colab-df-convert:hover {\n",
       "      background-color: #434B5C;\n",
       "      box-shadow: 0px 1px 3px 1px rgba(0, 0, 0, 0.15);\n",
       "      filter: drop-shadow(0px 1px 2px rgba(0, 0, 0, 0.3));\n",
       "      fill: #FFFFFF;\n",
       "    }\n",
       "  </style>\n",
       "\n",
       "      <script>\n",
       "        const buttonEl =\n",
       "          document.querySelector('#df-b1497003-8269-4f1f-bfa7-d7f4200521d5 button.colab-df-convert');\n",
       "        buttonEl.style.display =\n",
       "          google.colab.kernel.accessAllowed ? 'block' : 'none';\n",
       "\n",
       "        async function convertToInteractive(key) {\n",
       "          const element = document.querySelector('#df-b1497003-8269-4f1f-bfa7-d7f4200521d5');\n",
       "          const dataTable =\n",
       "            await google.colab.kernel.invokeFunction('convertToInteractive',\n",
       "                                                     [key], {});\n",
       "          if (!dataTable) return;\n",
       "\n",
       "          const docLinkHtml = 'Like what you see? Visit the ' +\n",
       "            '<a target=\"_blank\" href=https://colab.research.google.com/notebooks/data_table.ipynb>data table notebook</a>'\n",
       "            + ' to learn more about interactive tables.';\n",
       "          element.innerHTML = '';\n",
       "          dataTable['output_type'] = 'display_data';\n",
       "          await google.colab.output.renderOutput(dataTable, element);\n",
       "          const docLink = document.createElement('div');\n",
       "          docLink.innerHTML = docLinkHtml;\n",
       "          element.appendChild(docLink);\n",
       "        }\n",
       "      </script>\n",
       "    </div>\n",
       "  </div>\n",
       "  "
      ],
      "text/plain": [
       "   ENSG00000000003  ENSG00000000419  ENSG00000000457  ENSG00000000460  \\\n",
       "0         0.000002         0.000042         0.000004     7.423628e-07   \n",
       "1         0.000003         0.000074         0.000008     3.515130e-06   \n",
       "2         0.000003         0.000062         0.000008     4.080497e-06   \n",
       "3         0.000010         0.000053         0.000006     2.750273e-07   \n",
       "4         0.000020         0.000097         0.000016     2.904005e-06   \n",
       "\n",
       "   ENSG00000000938  ENSG00000000971  ENSG00000001036  ENSG00000001084  \\\n",
       "0         0.000100         0.000007         0.000050         0.000015   \n",
       "1         0.000042         0.000017         0.000018         0.000013   \n",
       "2         0.000006         0.000010         0.000009         0.000030   \n",
       "3         0.000008         0.000030         0.000033         0.000005   \n",
       "4         0.000045         0.000035         0.000025         0.000016   \n",
       "\n",
       "   ENSG00000001167  ENSG00000001460  ...  ENSG00000289690  ENSG00000289692  \\\n",
       "0         0.000005         0.000011  ...         0.000004     3.247838e-07   \n",
       "1         0.000009         0.000018  ...         0.000003     0.000000e+00   \n",
       "2         0.000007         0.000018  ...         0.000003     0.000000e+00   \n",
       "3         0.000005         0.000013  ...         0.000003     0.000000e+00   \n",
       "4         0.000007         0.000015  ...         0.000005     2.420004e-07   \n",
       "\n",
       "   ENSG00000289694  ENSG00000289695  ENSG00000289697  ENSG00000289700  \\\n",
       "0         0.000105              0.0     9.279536e-08     2.783861e-07   \n",
       "1         0.000084              0.0     3.515130e-07     5.858550e-07   \n",
       "2         0.000047              0.0     1.974433e-07     3.948866e-07   \n",
       "3         0.000043              0.0     1.650164e-06     6.875682e-07   \n",
       "4         0.000085              0.0     7.260012e-07     9.680016e-07   \n",
       "\n",
       "   ENSG00000289701  ENSG00000289716  cell_type  sample_id  \n",
       "0         0.000014     1.855907e-07          1          6  \n",
       "1         0.000007     3.515130e-07          2          6  \n",
       "2         0.000005     3.290722e-07          4          6  \n",
       "3         0.000005     1.375136e-07          5          6  \n",
       "4         0.000006     0.000000e+00          6          6  \n",
       "\n",
       "[5 rows x 23981 columns]"
      ]
     },
     "execution_count": 4,
     "metadata": {},
     "output_type": "execute_result"
    }
   ],
   "source": [
    "atlas_data.head()"
   ]
  },
  {
   "cell_type": "markdown",
   "metadata": {
    "id": "zz7qV-Y6VE9A"
   },
   "source": [
    "Let's clean up this dataset a bit"
   ]
  },
  {
   "cell_type": "code",
   "execution_count": 5,
   "metadata": {
    "id": "l7Il9UaDS7M0"
   },
   "outputs": [],
   "source": [
    "atlas_frame = atlas_data.melt(id_vars = [\"cell_type\", \"sample_id\"], ignore_index=False)\n",
    "atlas_frame = atlas_frame.set_index([\"sample_id\", \"cell_type\", \"variable\"])"
   ]
  },
  {
   "cell_type": "code",
   "execution_count": 6,
   "metadata": {
    "colab": {
     "base_uri": "https://localhost:8080/",
     "height": 238
    },
    "id": "zqW_SaqYUFUA",
    "outputId": "4a7dea85-b1ad-4465-b933-65fef1f6aee9"
   },
   "outputs": [
    {
     "data": {
      "text/html": [
       "\n",
       "  <div id=\"df-8fd53a57-fca9-499a-b4ce-237dbdd45f1a\">\n",
       "    <div class=\"colab-df-container\">\n",
       "      <div>\n",
       "<style scoped>\n",
       "    .dataframe tbody tr th:only-of-type {\n",
       "        vertical-align: middle;\n",
       "    }\n",
       "\n",
       "    .dataframe tbody tr th {\n",
       "        vertical-align: top;\n",
       "    }\n",
       "\n",
       "    .dataframe thead th {\n",
       "        text-align: right;\n",
       "    }\n",
       "</style>\n",
       "<table border=\"1\" class=\"dataframe\">\n",
       "  <thead>\n",
       "    <tr style=\"text-align: right;\">\n",
       "      <th></th>\n",
       "      <th></th>\n",
       "      <th></th>\n",
       "      <th>value</th>\n",
       "    </tr>\n",
       "    <tr>\n",
       "      <th>sample_id</th>\n",
       "      <th>cell_type</th>\n",
       "      <th>variable</th>\n",
       "      <th></th>\n",
       "    </tr>\n",
       "  </thead>\n",
       "  <tbody>\n",
       "    <tr>\n",
       "      <th rowspan=\"5\" valign=\"top\">6</th>\n",
       "      <th>1</th>\n",
       "      <th>ENSG00000000003</th>\n",
       "      <td>0.000002</td>\n",
       "    </tr>\n",
       "    <tr>\n",
       "      <th>2</th>\n",
       "      <th>ENSG00000000003</th>\n",
       "      <td>0.000003</td>\n",
       "    </tr>\n",
       "    <tr>\n",
       "      <th>4</th>\n",
       "      <th>ENSG00000000003</th>\n",
       "      <td>0.000003</td>\n",
       "    </tr>\n",
       "    <tr>\n",
       "      <th>5</th>\n",
       "      <th>ENSG00000000003</th>\n",
       "      <td>0.000010</td>\n",
       "    </tr>\n",
       "    <tr>\n",
       "      <th>6</th>\n",
       "      <th>ENSG00000000003</th>\n",
       "      <td>0.000020</td>\n",
       "    </tr>\n",
       "  </tbody>\n",
       "</table>\n",
       "</div>\n",
       "      <button class=\"colab-df-convert\" onclick=\"convertToInteractive('df-8fd53a57-fca9-499a-b4ce-237dbdd45f1a')\"\n",
       "              title=\"Convert this dataframe to an interactive table.\"\n",
       "              style=\"display:none;\">\n",
       "        \n",
       "  <svg xmlns=\"http://www.w3.org/2000/svg\" height=\"24px\"viewBox=\"0 0 24 24\"\n",
       "       width=\"24px\">\n",
       "    <path d=\"M0 0h24v24H0V0z\" fill=\"none\"/>\n",
       "    <path d=\"M18.56 5.44l.94 2.06.94-2.06 2.06-.94-2.06-.94-.94-2.06-.94 2.06-2.06.94zm-11 1L8.5 8.5l.94-2.06 2.06-.94-2.06-.94L8.5 2.5l-.94 2.06-2.06.94zm10 10l.94 2.06.94-2.06 2.06-.94-2.06-.94-.94-2.06-.94 2.06-2.06.94z\"/><path d=\"M17.41 7.96l-1.37-1.37c-.4-.4-.92-.59-1.43-.59-.52 0-1.04.2-1.43.59L10.3 9.45l-7.72 7.72c-.78.78-.78 2.05 0 2.83L4 21.41c.39.39.9.59 1.41.59.51 0 1.02-.2 1.41-.59l7.78-7.78 2.81-2.81c.8-.78.8-2.07 0-2.86zM5.41 20L4 18.59l7.72-7.72 1.47 1.35L5.41 20z\"/>\n",
       "  </svg>\n",
       "      </button>\n",
       "      \n",
       "  <style>\n",
       "    .colab-df-container {\n",
       "      display:flex;\n",
       "      flex-wrap:wrap;\n",
       "      gap: 12px;\n",
       "    }\n",
       "\n",
       "    .colab-df-convert {\n",
       "      background-color: #E8F0FE;\n",
       "      border: none;\n",
       "      border-radius: 50%;\n",
       "      cursor: pointer;\n",
       "      display: none;\n",
       "      fill: #1967D2;\n",
       "      height: 32px;\n",
       "      padding: 0 0 0 0;\n",
       "      width: 32px;\n",
       "    }\n",
       "\n",
       "    .colab-df-convert:hover {\n",
       "      background-color: #E2EBFA;\n",
       "      box-shadow: 0px 1px 2px rgba(60, 64, 67, 0.3), 0px 1px 3px 1px rgba(60, 64, 67, 0.15);\n",
       "      fill: #174EA6;\n",
       "    }\n",
       "\n",
       "    [theme=dark] .colab-df-convert {\n",
       "      background-color: #3B4455;\n",
       "      fill: #D2E3FC;\n",
       "    }\n",
       "\n",
       "    [theme=dark] .colab-df-convert:hover {\n",
       "      background-color: #434B5C;\n",
       "      box-shadow: 0px 1px 3px 1px rgba(0, 0, 0, 0.15);\n",
       "      filter: drop-shadow(0px 1px 2px rgba(0, 0, 0, 0.3));\n",
       "      fill: #FFFFFF;\n",
       "    }\n",
       "  </style>\n",
       "\n",
       "      <script>\n",
       "        const buttonEl =\n",
       "          document.querySelector('#df-8fd53a57-fca9-499a-b4ce-237dbdd45f1a button.colab-df-convert');\n",
       "        buttonEl.style.display =\n",
       "          google.colab.kernel.accessAllowed ? 'block' : 'none';\n",
       "\n",
       "        async function convertToInteractive(key) {\n",
       "          const element = document.querySelector('#df-8fd53a57-fca9-499a-b4ce-237dbdd45f1a');\n",
       "          const dataTable =\n",
       "            await google.colab.kernel.invokeFunction('convertToInteractive',\n",
       "                                                     [key], {});\n",
       "          if (!dataTable) return;\n",
       "\n",
       "          const docLinkHtml = 'Like what you see? Visit the ' +\n",
       "            '<a target=\"_blank\" href=https://colab.research.google.com/notebooks/data_table.ipynb>data table notebook</a>'\n",
       "            + ' to learn more about interactive tables.';\n",
       "          element.innerHTML = '';\n",
       "          dataTable['output_type'] = 'display_data';\n",
       "          await google.colab.output.renderOutput(dataTable, element);\n",
       "          const docLink = document.createElement('div');\n",
       "          docLink.innerHTML = docLinkHtml;\n",
       "          element.appendChild(docLink);\n",
       "        }\n",
       "      </script>\n",
       "    </div>\n",
       "  </div>\n",
       "  "
      ],
      "text/plain": [
       "                                        value\n",
       "sample_id cell_type variable                 \n",
       "6         1         ENSG00000000003  0.000002\n",
       "          2         ENSG00000000003  0.000003\n",
       "          4         ENSG00000000003  0.000003\n",
       "          5         ENSG00000000003  0.000010\n",
       "          6         ENSG00000000003  0.000020"
      ]
     },
     "execution_count": 6,
     "metadata": {},
     "output_type": "execute_result"
    }
   ],
   "source": [
    "atlas_frame.head()"
   ]
  },
  {
   "cell_type": "markdown",
   "metadata": {
    "id": "lPKCcoLyVscm"
   },
   "source": [
    "And prepare the input atlas data for BayesTME, where the atlas data `expression_truth` is 3-dimensional: $n_{\\text{sample}}\\times n_{\\text{celltype}}\\times n_{\\text{cell}}$ "
   ]
  },
  {
   "cell_type": "code",
   "execution_count": 7,
   "metadata": {
    "colab": {
     "base_uri": "https://localhost:8080/"
    },
    "id": "BnojfjrQUGM5",
    "outputId": "8bea8fe9-7882-424b-db9b-d363cabc7011"
   },
   "outputs": [
    {
     "name": "stdout",
     "output_type": "stream",
     "text": [
      "(3, 5, 23979)\n"
     ]
    }
   ],
   "source": [
    "shape = [len(x) for x in atlas_frame.index.levels]\n",
    "arr = np.full(shape, np.nan)\n",
    "arr[tuple(atlas_frame.index.codes)] = atlas_frame.values.flat\n",
    "assert np.isnan(arr).sum() == 0\n",
    "\n",
    "\n",
    "L = np.min(arr[arr > 0])\n",
    "arr[arr==0] = L/10.0\n",
    "arr_norm = arr / arr.sum(axis=2)[:, :, None]\n",
    "assert arr_norm[arr_norm==0].sum() == 0\n",
    "\n",
    "expression_truth = arr_norm\n",
    "print(expression_truth.shape)"
   ]
  },
  {
   "cell_type": "markdown",
   "metadata": {
    "id": "oxAb7ZnPZUmy"
   },
   "source": [
    "We will use the `dirichlet_alpha_model` to infer the gene expression prior of the Dirichlet model used in BayesTME's deconvolution module"
   ]
  },
  {
   "cell_type": "code",
   "execution_count": 8,
   "metadata": {
    "colab": {
     "base_uri": "https://localhost:8080/"
    },
    "id": "4xRLOxG1Xg5l",
    "outputId": "7673a897-a24e-4f59-e46b-96eb2cc6d671"
   },
   "outputs": [
    {
     "name": "stderr",
     "output_type": "stream",
     "text": [
      "WARNING:jax._src.lib.xla_bridge:No GPU/TPU found, falling back to CPU. (Set TF_CPP_MIN_LOG_LEVEL=0 and rerun for more info.)\n"
     ]
    },
    {
     "name": "stdout",
     "output_type": "stream",
     "text": [
      "Trace Shapes:              \n",
      " Param Sites:              \n",
      "Sample Sites:              \n",
      "   alpha dist       |      \n",
      "        value 23979 |      \n",
      "      N plate     3 |      \n",
      "     obs dist     3 | 23979\n",
      "        value     3 | 23979\n"
     ]
    }
   ],
   "source": [
    "with numpyro.handlers.seed(rng_seed=1):\n",
    "  trace = numpyro.handlers.trace(et.dirichlet_alpha_model).get_trace(expression_truth[:, 0, :])\n",
    "print(numpyro.util.format_shapes(trace))"
   ]
  },
  {
   "cell_type": "code",
   "execution_count": 9,
   "metadata": {
    "colab": {
     "base_uri": "https://localhost:8080/"
    },
    "id": "ww7UUvCaXmEs",
    "outputId": "fe0e69c2-54ce-4ce3-818e-8a900bb0b0d7"
   },
   "outputs": [
    {
     "name": "stderr",
     "output_type": "stream",
     "text": [
      "sample: 100%|██████████| 400/400 [01:42<00:00,  3.90it/s, 63 steps of size 8.45e-02. acc. prob=0.86]\n",
      "sample: 100%|██████████| 400/400 [01:40<00:00,  3.99it/s, 63 steps of size 6.82e-02. acc. prob=0.85]\n",
      "sample: 100%|██████████| 400/400 [01:31<00:00,  4.38it/s, 63 steps of size 8.11e-02. acc. prob=0.87]\n",
      "sample: 100%|██████████| 400/400 [01:33<00:00,  4.30it/s, 63 steps of size 6.89e-02. acc. prob=0.88]\n",
      "sample: 100%|██████████| 400/400 [01:22<00:00,  4.86it/s, 63 steps of size 8.18e-02. acc. prob=0.86]\n"
     ]
    }
   ],
   "source": [
    "alpha = et.combine_multiple_expression_truth(expression_truth)"
   ]
  },
  {
   "cell_type": "markdown",
   "metadata": {
    "id": "0ogyT9jBbCyQ"
   },
   "source": [
    "The resulting `alpha` prior is 2-dimensional: $n_{\\text{celltype}} \\times n_{\\text{gene}}$ containing the infered Dirichelt prior for each cell type.\n",
    "And we can visualize the prior by the following plot:"
   ]
  },
  {
   "cell_type": "code",
   "execution_count": 10,
   "metadata": {
    "colab": {
     "base_uri": "https://localhost:8080/",
     "height": 598
    },
    "id": "Ws1FTBsxX5wk",
    "outputId": "83cc1894-5b40-4443-c845-b60257f85c28"
   },
   "outputs": [
    {
     "data": {
      "image/png": "[encoded data removed]",
      "text/plain": [
       "<Figure size 720x720 with 5 Axes>"
      ]
     },
     "metadata": {
      "needs_background": "light"
     },
     "output_type": "display_data"
    }
   ],
   "source": [
    "fig, ax = plt.subplots(5, 1, figsize=(10, 10))\n",
    "for k in range(5):\n",
    "    ax[k].plot(np.arange(23979), alpha[k])\n",
    "    ax[k].set_xticks([])\n",
    "    ax[k].set_ylabel('cell type {}'.format(k), fontsize=15)\n",
    "ax[4].set_xlabel('Genes', fontsize=20)\n",
    "plt.show()"
   ]
  },
  {
   "cell_type": "markdown",
   "metadata": {
    "id": "sDB4CyrqebLG"
   },
   "source": [
    "And all these steps in integrated in BayesTME's command line interface, you just need to provide the `--expression-truth` argument multiple times to deconvolve.\n",
    "\n",
    "For example:\n",
    "```\n",
    "deconvolve --expression-truth average_expression_sample_1.csv \\\n",
    "    --expression-truth average_expression_sample_2.csv \\\n",
    "    --expression-truth average_expression_sample_3.csv\n",
    "```\n",
    "`deconvolve` will consider all the samples jointly to determine baseline expression profiles for the different cell types.\n",
    "Detail is avaiable at https://bayestme.readthedocs.io/en/latest/fine_mapping_workflow.html"
   ]
  }
 ],
 "metadata": {
  "colab": {
   "provenance": []
  },
  "kernelspec": {
   "display_name": "Python 3 (ipykernel)",
   "language": "python",
   "name": "python3"
  },
  "language_info": {
   "codemirror_mode": {
    "name": "ipython",
    "version": 3
   },
   "file_extension": ".py",
   "mimetype": "text/x-python",
   "name": "python",
   "nbconvert_exporter": "python",
   "pygments_lexer": "ipython3",
   "version": "3.8.8"
  }
 },
 "nbformat": 4,
 "nbformat_minor": 1
}
