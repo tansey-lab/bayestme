{
 "cells": [
  {
   "cell_type": "markdown",
   "id": "28391d29",
   "metadata": {},
   "source": [
    "# BayesTME Demo\n",
    "\n",
    "In this notebook we will demonstrate running the bayestme pipeline end to end on a sample dataset.\n",
    "\n",
    "We will use a very small simulated dataset for this demo such that this notebook can be fully executed quickly and with a small amount of resources."
   ]
  },
  {
   "cell_type": "code",
   "execution_count": 46,
   "id": "200069b6",
   "metadata": {},
   "outputs": [
    {
     "name": "stdout",
     "output_type": "stream",
     "text": [
      "0\n",
      "100\n"
     ]
    }
   ],
   "source": [
    "from bayestme import data\n",
    "\n",
    "locations, tissue_mask, true_rates, true_counts, bleed_counts = bleeding_correction.generate_data(\n",
    "    n_rows=12,\n",
    "    n_cols=12,\n",
    "    n_genes=10)\n",
    "\n",
    "stdata = data.SpatialExpressionDataset(\n",
    "    raw_counts=bleed_counts,\n",
    "    tissue_mask=tissue_mask,\n",
    "    positions=locations.T,\n",
    "    gene_names=np.array(['1', '2', '3', '4', '5', '6', '7', '8', '9', '10']),\n",
    "    layout=data.Layout.SQUARE\n",
    ")"
   ]
  },
  {
   "cell_type": "markdown",
   "id": "cb253ddf",
   "metadata": {},
   "source": [
    "Below is a visualization of the raw count data for one gene to give a sense of what this simulated dataset looks like."
   ]
  },
  {
   "cell_type": "code",
   "execution_count": 47,
   "id": "c83b699d",
   "metadata": {
    "scrolled": false
   },
   "outputs": [
    {
     "name": "stdout",
     "output_type": "stream",
     "text": [
      "Plot saved as ./1_raw_counts.png\n"
     ]
    },
    {
     "data": {
      "image/png": "[encoded data removed]",
      "text/plain": [
       "<IPython.core.display.Image object>"
      ]
     },
     "execution_count": 47,
     "metadata": {
      "image/png": {
       "unconfined": true
      }
     },
     "output_type": "execute_result"
    }
   ],
   "source": [
    "import numpy as np\n",
    "from bayestme import plotting\n",
    "from IPython.display import Image\n",
    "\n",
    "plotting.plot_gene_raw_counts(\n",
    "    stdata,\n",
    "    gene='1',\n",
    "    output_format='png',\n",
    "    output_dir='.')\n",
    "\n",
    "Image(filename='1_raw_counts.png', unconfined=True) "
   ]
  },
  {
   "cell_type": "markdown",
   "id": "bc07e1cf",
   "metadata": {},
   "source": [
    "Once we have loaded our ST dataset, we need to do some preprocessing to filter down the number of gene markers. Gene markers can be redundant for our analysis if their count data does not vary across the tissue, or if they are universally expressed across the tissue sample."
   ]
  },
  {
   "cell_type": "code",
   "execution_count": 58,
   "id": "7671f200",
   "metadata": {},
   "outputs": [
    {
     "data": {
      "text/plain": [
       "10"
      ]
     },
     "execution_count": 58,
     "metadata": {},
     "output_type": "execute_result"
    }
   ],
   "source": [
    "len(stdata.gene_names)"
   ]
  },
  {
   "cell_type": "markdown",
   "id": "2836124f",
   "metadata": {},
   "source": [
    "We will filter this down to 5 genes that have the most information content for our analysis."
   ]
  },
  {
   "cell_type": "code",
   "execution_count": 78,
   "id": "0ef4e627",
   "metadata": {},
   "outputs": [],
   "source": [
    "from bayestme import gene_filtering\n",
    "\n",
    "stdata_stddev_filtered = gene_filtering.select_top_genes_by_standard_deviation(\n",
    "    stdata, n_gene=5)"
   ]
  },
  {
   "cell_type": "code",
   "execution_count": 79,
   "id": "8c9c0c5b",
   "metadata": {},
   "outputs": [
    {
     "data": {
      "text/plain": [
       "5"
      ]
     },
     "execution_count": 79,
     "metadata": {},
     "output_type": "execute_result"
    }
   ],
   "source": [
    "len(stdata_stddev_filtered.gene_names)"
   ]
  },
  {
   "cell_type": "markdown",
   "id": "911cde50",
   "metadata": {},
   "source": [
    "Now that we have filtered the gene markers down, we perform bleeding correction\n",
    "\n",
    "The `n_top` parameter controls how many of the filtered gene markers we want to consider for this analysis. We will just use a few for the purposes of this demonstration to make the computation faster."
   ]
  },
  {
   "cell_type": "code",
   "execution_count": 81,
   "id": "af6e6c27",
   "metadata": {},
   "outputs": [
    {
     "name": "stdout",
     "output_type": "stream",
     "text": [
      "Fitting basis functions to first 3 genes\n",
      "\n",
      "Step 1/5\n",
      "\tLoss: 886.29\n",
      "\n",
      "Step 2/5\n",
      "\tLoss: 573.31\n",
      "\n",
      "Step 3/5\n",
      "\tLoss: 560.69\n",
      "\n",
      "Step 4/5\n",
      "\tLoss: 531.64\n",
      "\n",
      "Step 5/5\n",
      "\tLoss: 525.19\n",
      "\n",
      "Gene 1/5\n",
      "\n",
      "Gene 2/5\n",
      "\n",
      "Gene 3/5\n",
      "\n",
      "Gene 4/5\n",
      "\n",
      "Gene 5/5\n"
     ]
    }
   ],
   "source": [
    "from bayestme import bleeding_correction\n",
    "\n",
    "cleaned_dataset, bleed_correction_result = bleeding_correction.clean_bleed(\n",
    "    dataset=stdata_stddev_filtered,\n",
    "    n_top=3,\n",
    "    local_weight=None\n",
    ")"
   ]
  },
  {
   "cell_type": "code",
   "execution_count": 82,
   "id": "d7d836f2",
   "metadata": {},
   "outputs": [
    {
     "name": "stdout",
     "output_type": "stream",
     "text": [
      "Plot saved as ./9_bleeding_plot.pdf\n",
      "Plot saved as ./4_bleeding_plot.pdf\n",
      "Plot saved as ./8_bleeding_plot.pdf\n",
      "Plot saved as ./2_bleeding_plot.pdf\n",
      "Plot saved as ./3_bleeding_plot.pdf\n"
     ]
    }
   ],
   "source": [
    "bleeding_correction.create_top_n_gene_bleeding_plots(\n",
    "    dataset=stdata_stddev_filtered,\n",
    "    corrected_dataset=cleaned_dataset,\n",
    "    bleed_result=bleed_correction_result,\n",
    "    output_dir='.',\n",
    "    n_genes=5\n",
    ")"
   ]
  },
  {
   "cell_type": "code",
   "execution_count": null,
   "id": "f0c5739f",
   "metadata": {},
   "outputs": [],
   "source": []
  }
 ],
 "metadata": {
  "kernelspec": {
   "display_name": "Python 3 (ipykernel)",
   "language": "python",
   "name": "python3"
  },
  "language_info": {
   "codemirror_mode": {
    "name": "ipython",
    "version": 3
   },
   "file_extension": ".py",
   "mimetype": "text/x-python",
   "name": "python",
   "nbconvert_exporter": "python",
   "pygments_lexer": "ipython3",
   "version": "3.9.12"
  }
 },
 "nbformat": 4,
 "nbformat_minor": 5
}
